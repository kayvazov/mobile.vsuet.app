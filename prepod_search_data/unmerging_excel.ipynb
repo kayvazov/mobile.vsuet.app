{
 "cells": [
  {
   "cell_type": "markdown",
   "id": "05e6cb20",
   "metadata": {},
   "source": [
    "# IMPORT"
   ]
  },
  {
   "cell_type": "code",
   "execution_count": 1,
   "id": "039421a2",
   "metadata": {},
   "outputs": [],
   "source": [
    "import pandas as pd\n",
    "import numpy as np\n",
    "\n",
    "import traceback\n",
    "\n",
    "import openpyxl\n",
    "from openpyxl.utils import range_boundaries\n",
    "from openpyxl import Workbook\n",
    "from openpyxl import load_workbook\n",
    "\n",
    "pd.set_option('display.max_rows', None)"
   ]
  },
  {
   "cell_type": "markdown",
   "id": "fcc09c6c",
   "metadata": {},
   "source": [
    "# Unmerging cells"
   ]
  },
  {
   "cell_type": "code",
   "execution_count": 2,
   "id": "9e5261e2",
   "metadata": {},
   "outputs": [
    {
     "name": "stderr",
     "output_type": "stream",
     "text": [
      "<ipython-input-2-b1640410eca1>:21: DeprecationWarning: Call to deprecated function remove_sheet (Use wb.remove(worksheet) or del wb[sheetname]).\n",
      "  wbook.remove_sheet(sheet)\n"
     ]
    }
   ],
   "source": [
    "wbook=openpyxl.load_workbook(r\"rasp/mer/eht_mer.xlsx\")\n",
    "\n",
    "def de_merge():\n",
    "    c = 0\n",
    "    for cell_group in merged_renges:\n",
    "        c += 1\n",
    "        min_col, min_row, max_col, max_row = range_boundaries(str(cell_group))\n",
    "        top_left_cell_value = sheet.cell(row=min_row, column=min_col).value\n",
    "        sheet.unmerge_cells(str(cell_group))\n",
    "        for row in sheet.iter_rows(min_col=min_col, min_row=min_row, max_col=max_col, max_row=max_row):\n",
    "            for cell in row:\n",
    "                cell.value = top_left_cell_value\n",
    "                    \n",
    "    if c != 0:\n",
    "        de_merge()\n",
    "\n",
    "num = -1\n",
    "for sheet in wbook.worksheets:\n",
    "    num += 1\n",
    "    if sheet.sheet_state == 'hidden':\n",
    "        wbook.remove_sheet(sheet)\n",
    "    else:\n",
    "        merged_renges = sheet.merged_cells.ranges\n",
    "        de_merge()\n",
    "\n",
    "wbook.save(r\"rasp\\unmer\\eht_unmer.xlsx\")"
   ]
  },
  {
   "cell_type": "code",
   "execution_count": 3,
   "id": "fec48512",
   "metadata": {},
   "outputs": [],
   "source": [
    "wbook=openpyxl.load_workbook(r\"rasp/mer/eiu_mer.xlsx\")\n",
    "\n",
    "def de_merge():\n",
    "    c = 0\n",
    "    for cell_group in merged_renges:\n",
    "        c += 1\n",
    "        min_col, min_row, max_col, max_row = range_boundaries(str(cell_group))\n",
    "        top_left_cell_value = sheet.cell(row=min_row, column=min_col).value\n",
    "        sheet.unmerge_cells(str(cell_group))\n",
    "        for row in sheet.iter_rows(min_col=min_col, min_row=min_row, max_col=max_col, max_row=max_row):\n",
    "            for cell in row:\n",
    "                cell.value = top_left_cell_value\n",
    "                    \n",
    "    if c != 0:\n",
    "        de_merge()\n",
    "\n",
    "num = -1\n",
    "for sheet in wbook.worksheets:\n",
    "    num += 1\n",
    "    if sheet.sheet_state == 'hidden':\n",
    "        wbook.remove_sheet(sheet)\n",
    "    else:\n",
    "        merged_renges = sheet.merged_cells.ranges\n",
    "        de_merge()\n",
    "\n",
    "wbook.save(r\"rasp\\unmer\\eiu_unmer.xlsx\")"
   ]
  },
  {
   "cell_type": "code",
   "execution_count": 4,
   "id": "81130cdc",
   "metadata": {},
   "outputs": [
    {
     "name": "stderr",
     "output_type": "stream",
     "text": [
      "<ipython-input-4-e19e9e2fc16f>:21: DeprecationWarning: Call to deprecated function remove_sheet (Use wb.remove(worksheet) or del wb[sheetname]).\n",
      "  wbook.remove_sheet(sheet)\n"
     ]
    }
   ],
   "source": [
    "wbook=openpyxl.load_workbook(r\"rasp/mer/pma_mer.xlsx\")\n",
    "\n",
    "def de_merge():\n",
    "    c = 0\n",
    "    for cell_group in merged_renges:\n",
    "        c += 1\n",
    "        min_col, min_row, max_col, max_row = range_boundaries(str(cell_group))\n",
    "        top_left_cell_value = sheet.cell(row=min_row, column=min_col).value\n",
    "        sheet.unmerge_cells(str(cell_group))\n",
    "        for row in sheet.iter_rows(min_col=min_col, min_row=min_row, max_col=max_col, max_row=max_row):\n",
    "            for cell in row:\n",
    "                cell.value = top_left_cell_value\n",
    "                    \n",
    "    if c != 0:\n",
    "        de_merge()\n",
    "\n",
    "num = -1\n",
    "for sheet in wbook.worksheets:\n",
    "    num += 1\n",
    "    if sheet.sheet_state == 'hidden':\n",
    "        wbook.remove_sheet(sheet)\n",
    "    else:\n",
    "        merged_renges = sheet.merged_cells.ranges\n",
    "        de_merge()\n",
    "\n",
    "wbook.save(r\"rasp\\unmer\\pma_unmer.xlsx\")"
   ]
  },
  {
   "cell_type": "code",
   "execution_count": 5,
   "id": "ed207616",
   "metadata": {},
   "outputs": [],
   "source": [
    "wbook=openpyxl.load_workbook(r\"rasp/mer/uits_mer.xlsx\")\n",
    "\n",
    "def de_merge():\n",
    "    c = 0\n",
    "    for cell_group in merged_renges:\n",
    "        c += 1\n",
    "        min_col, min_row, max_col, max_row = range_boundaries(str(cell_group))\n",
    "        top_left_cell_value = sheet.cell(row=min_row, column=min_col).value\n",
    "        sheet.unmerge_cells(str(cell_group))\n",
    "        for row in sheet.iter_rows(min_col=min_col, min_row=min_row, max_col=max_col, max_row=max_row):\n",
    "            for cell in row:\n",
    "                cell.value = top_left_cell_value\n",
    "                    \n",
    "    if c != 0:\n",
    "        de_merge()\n",
    "\n",
    "num = -1\n",
    "for sheet in wbook.worksheets:\n",
    "    num += 1\n",
    "    if sheet.sheet_state == 'hidden':\n",
    "        wbook.remove_sheet(sheet)\n",
    "    else:\n",
    "        merged_renges = sheet.merged_cells.ranges\n",
    "        de_merge()\n",
    "\n",
    "wbook.save(r\"rasp\\unmer\\uits_unmer.xlsx\")"
   ]
  },
  {
   "cell_type": "code",
   "execution_count": 6,
   "id": "cb3e49ff",
   "metadata": {},
   "outputs": [],
   "source": [
    "wbook=openpyxl.load_workbook(r\"rasp/mer/tf_mer.xlsx\")\n",
    "\n",
    "def de_merge():\n",
    "    c = 0\n",
    "    for cell_group in merged_renges:\n",
    "        c += 1\n",
    "        min_col, min_row, max_col, max_row = range_boundaries(str(cell_group))\n",
    "        top_left_cell_value = sheet.cell(row=min_row, column=min_col).value\n",
    "        sheet.unmerge_cells(str(cell_group))\n",
    "        for row in sheet.iter_rows(min_col=min_col, min_row=min_row, max_col=max_col, max_row=max_row):\n",
    "            for cell in row:\n",
    "                cell.value = top_left_cell_value\n",
    "                    \n",
    "    if c != 0:\n",
    "        de_merge()\n",
    "\n",
    "num = -1\n",
    "for sheet in wbook.worksheets:\n",
    "    num += 1\n",
    "    if sheet.sheet_state == 'hidden':\n",
    "        wbook.remove_sheet(sheet)\n",
    "    else:\n",
    "        merged_renges = sheet.merged_cells.ranges\n",
    "        de_merge()\n",
    "\n",
    "wbook.save(r\"rasp\\unmer\\tf_unmer.xlsx\")"
   ]
  }
 ],
 "metadata": {
  "kernelspec": {
   "display_name": "Python 3",
   "language": "python",
   "name": "python3"
  },
  "language_info": {
   "codemirror_mode": {
    "name": "ipython",
    "version": 3
   },
   "file_extension": ".py",
   "mimetype": "text/x-python",
   "name": "python",
   "nbconvert_exporter": "python",
   "pygments_lexer": "ipython3",
   "version": "3.8.8"
  }
 },
 "nbformat": 4,
 "nbformat_minor": 5
}
