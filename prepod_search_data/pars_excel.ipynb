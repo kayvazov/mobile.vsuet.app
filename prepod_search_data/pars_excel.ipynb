{
 "cells": [
  {
   "cell_type": "markdown",
   "id": "0553a35f",
   "metadata": {},
   "source": [
    "# Parsing"
   ]
  },
  {
   "cell_type": "code",
   "execution_count": 1,
   "id": "d15790f5",
   "metadata": {},
   "outputs": [],
   "source": [
    "import requests as req"
   ]
  },
  {
   "cell_type": "code",
   "execution_count": 2,
   "id": "a29a74c7",
   "metadata": {},
   "outputs": [],
   "source": [
    "with req.get(\"https://vsuet.ru/images/student/schedule/uits_osen_21_22.xlsx\") as rq:\n",
    "    with open(\"rasp/mer/uits_mer.xlsx\", \"wb\") as file:\n",
    "        file.write(rq.content)"
   ]
  },
  {
   "cell_type": "code",
   "execution_count": 3,
   "id": "53270720",
   "metadata": {},
   "outputs": [],
   "source": [
    "with req.get(\"https://vsuet.ru/images/student/schedule/pma_osen_21_22.xlsx\") as rq:\n",
    "    with open(\"rasp/mer/pma_mer.xlsx\", \"wb\") as file:\n",
    "        file.write(rq.content)"
   ]
  },
  {
   "cell_type": "code",
   "execution_count": 4,
   "id": "f88fa327",
   "metadata": {},
   "outputs": [],
   "source": [
    "with req.get(\"https://vsuet.ru/images/student/schedule/eht_osen_21_22.xlsx\") as rq:\n",
    "    with open(\"rasp/mer/eht_mer.xlsx\", \"wb\") as file:\n",
    "        file.write(rq.content)"
   ]
  },
  {
   "cell_type": "code",
   "execution_count": 5,
   "id": "add8ecce",
   "metadata": {},
   "outputs": [],
   "source": [
    "with req.get(\"https://vsuet.ru/images/student/schedule/tf_osen_21_22.xlsx\") as rq:\n",
    "    with open(\"rasp/mer/tf_mer.xlsx\", \"wb\") as file:\n",
    "        file.write(rq.content)"
   ]
  },
  {
   "cell_type": "code",
   "execution_count": 6,
   "id": "6c74a3a6",
   "metadata": {},
   "outputs": [],
   "source": [
    "with req.get(\"https://vsuet.ru/images/student/schedule/eiu_osen_21_22.xlsx\") as rq:\n",
    "    with open(\"rasp/mer/eiu_mer.xlsx\", \"wb\") as file:\n",
    "        file.write(rq.content)"
   ]
  }
 ],
 "metadata": {
  "kernelspec": {
   "display_name": "Python 3",
   "language": "python",
   "name": "python3"
  },
  "language_info": {
   "codemirror_mode": {
    "name": "ipython",
    "version": 3
   },
   "file_extension": ".py",
   "mimetype": "text/x-python",
   "name": "python",
   "nbconvert_exporter": "python",
   "pygments_lexer": "ipython3",
   "version": "3.8.8"
  }
 },
 "nbformat": 4,
 "nbformat_minor": 5
}
